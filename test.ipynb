{
 "cells": [
  {
   "cell_type": "code",
   "execution_count": 22,
   "metadata": {},
   "outputs": [],
   "source": [
    "import cv2\n",
    "import os\n",
    "import numpy as np\n",
    "from scipy.ndimage import label"
   ]
  },
  {
   "cell_type": "code",
   "execution_count": 2,
   "metadata": {},
   "outputs": [],
   "source": [
    "os.environ[\"OPENCV_IO_ENABLE_OPENEXR\"]=\"1\""
   ]
  },
  {
   "cell_type": "code",
   "execution_count": 21,
   "metadata": {},
   "outputs": [
    {
     "data": {
      "text/plain": [
       "(2048, 4096, 3)"
      ]
     },
     "execution_count": 21,
     "metadata": {},
     "output_type": "execute_result"
    }
   ],
   "source": [
    "cv2.imread(f'/Users/gauranshurathee/Desktop/shadow_positioning/test_data/nov26/hdri/lonely_road_afternoon_puresky_4k.exr', cv2.IMREAD_UNCHANGED).shape"
   ]
  },
  {
   "cell_type": "code",
   "execution_count": 9,
   "metadata": {},
   "outputs": [],
   "source": [
    "img_name = [\n",
    "    f'image{i}'\n",
    "    for i in [1,2,3,4,5,6,7,8,10,11,12,13]\n",
    "]\n",
    "imgs = [\n",
    "    cv2.imread(f'/Users/gauranshurathee/Desktop/shadow_positioning/test_data/nov26/hdri/image{i}.exr', cv2.IMREAD_ANYCOLOR | cv2.IMREAD_ANYDEPTH)\n",
    "    for i in [1,2,3,4,5,6,7,8,10,11,12,13]\n",
    "]"
   ]
  },
  {
   "cell_type": "code",
   "execution_count": 25,
   "metadata": {},
   "outputs": [
    {
     "name": "stdout",
     "output_type": "stream",
     "text": [
      "\n",
      "image1:\n",
      "20\n",
      "\n",
      "image2:\n",
      "22\n",
      "\n",
      "image3:\n",
      "14\n",
      "\n",
      "image4:\n",
      "18\n",
      "\n",
      "image5:\n",
      "37\n",
      "\n",
      "image6:\n",
      "7\n",
      "\n",
      "image7:\n",
      "12\n",
      "\n",
      "image8:\n",
      "35\n",
      "\n",
      "image10:\n",
      "6\n",
      "\n",
      "image11:\n",
      "1\n",
      "\n",
      "image12:\n",
      "1\n",
      "\n",
      "image13:\n",
      "5\n"
     ]
    }
   ],
   "source": [
    "for i in range(len(imgs)):\n",
    "    thres = np.percentile(imgs[i], 99)\n",
    "    print(f'\\n{img_name[i]}:')\n",
    "\n",
    "    brightness_map = np.sum(imgs[i], axis=2)\n",
    "    threshold = np.percentile(brightness_map, 98)\n",
    "    binary_map = brightness_map > threshold\n",
    "\n",
    "    labeled_array, num_features = label(binary_map)\n",
    "\n",
    "    max_hdri_intensity = np.max(brightness_map)\n",
    "\n",
    "    print(num_features)"
   ]
  },
  {
   "cell_type": "code",
   "execution_count": 1,
   "metadata": {},
   "outputs": [],
   "source": [
    "import os\n",
    "import numpy as np\n",
    "import shutil\n",
    "import trimesh\n",
    "import pymeshlab\n",
    "from tqdm import tqdm"
   ]
  },
  {
   "cell_type": "code",
   "execution_count": 10,
   "metadata": {},
   "outputs": [
    {
     "name": "stdout",
     "output_type": "stream",
     "text": [
      "Saved smoothed mesh to /Users/gauranshurathee/Desktop/shadow_positioning/test_data/dec3_models/result_DSC03648_1024_smooth.obj\n",
      "Temporary file tmp_largest_component.obj deleted.\n"
     ]
    }
   ],
   "source": [
    "\n",
    "TEMP_FILE = 'tmp_largest_component.obj'\n",
    "\n",
    "\n",
    "mesh = trimesh.load(f'/Users/gauranshurathee/Desktop/shadow_positioning/test_data/dec3_models/result_DSC03648_1024.obj', process=False)\n",
    "\n",
    "\n",
    "# Find connected components\n",
    "components = mesh.split()\n",
    "\n",
    "# Calculate volumes of the components\n",
    "volumes = np.array([component.volume for component in components])\n",
    "\n",
    "\n",
    "# Keep the largest component (filtering out smaller components)\n",
    "largest_mesh = max(components, key=lambda x: x.volume)\n",
    "\n",
    "# Convert the trimesh object to a temporary .obj file to load into pymeshlab\n",
    "# output_filename = f'{OUTPUT_FOLDER}/{filename}'\n",
    "mesh.export(TEMP_FILE)\n",
    "\n",
    "\n",
    "# Now, use pymeshlab for Laplacian smoothing\n",
    "ms = pymeshlab.MeshSet()\n",
    "\n",
    "# Load the largest component from the temporary file\n",
    "ms.load_new_mesh(TEMP_FILE)\n",
    "\n",
    "# Apply Laplacian smoothing with default parameters\n",
    "ms.apply_color_laplacian_smoothing_per_vertex(iteration=40)\n",
    "\n",
    "# Save the smoothed component back to the output folder\n",
    "output_filename = f'/Users/gauranshurathee/Desktop/shadow_positioning/test_data/dec3_models/result_DSC03648_1024_smooth.obj'\n",
    "ms.save_current_mesh(output_filename)\n",
    "\n",
    "print(f'Saved smoothed mesh to {output_filename}')\n",
    "\n",
    "# Delete the temporary file after processing\n",
    "if os.path.exists(TEMP_FILE):\n",
    "    os.remove(TEMP_FILE)\n",
    "    print(f'Temporary file {TEMP_FILE} deleted.')\n"
   ]
  },
  {
   "cell_type": "code",
   "execution_count": null,
   "metadata": {},
   "outputs": [],
   "source": []
  },
  {
   "cell_type": "code",
   "execution_count": null,
   "metadata": {},
   "outputs": [],
   "source": []
  }
 ],
 "metadata": {
  "kernelspec": {
   "display_name": "image-composition",
   "language": "python",
   "name": "python3"
  },
  "language_info": {
   "codemirror_mode": {
    "name": "ipython",
    "version": 3
   },
   "file_extension": ".py",
   "mimetype": "text/x-python",
   "name": "python",
   "nbconvert_exporter": "python",
   "pygments_lexer": "ipython3",
   "version": "3.10.13"
  }
 },
 "nbformat": 4,
 "nbformat_minor": 2
}
